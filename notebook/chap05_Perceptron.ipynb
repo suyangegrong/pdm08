{
  "nbformat": 4,
  "nbformat_minor": 0,
  "metadata": {
    "colab": {
      "provenance": [],
      "collapsed_sections": [],
      "include_colab_link": true
    },
    "kernelspec": {
      "name": "python3",
      "display_name": "Python 3"
    },
    "language_info": {
      "name": "python"
    }
  },
  "cells": [
    {
      "cell_type": "markdown",
      "metadata": {
        "id": "view-in-github",
        "colab_type": "text"
      },
      "source": [
        "<a href=\"https://colab.research.google.com/github/suyangegrong/pdm08/blob/main/notebook/chap05_Perceptron.ipynb\" target=\"_parent\"><img src=\"https://colab.research.google.com/assets/colab-badge.svg\" alt=\"Open In Colab\"/></a>"
      ]
    },
    {
      "cell_type": "markdown",
      "source": [
        "#chap05-Perceptron"
      ],
      "metadata": {
        "id": "fmYOB_FfpfwX"
      }
    },
    {
      "cell_type": "markdown",
      "source": [
        "## simple perceptron using core python"
      ],
      "metadata": {
        "id": "dRQ7J9Eupk1O"
      }
    },
    {
      "cell_type": "code",
      "execution_count": null,
      "metadata": {
        "colab": {
          "base_uri": "https://localhost:8080/"
        },
        "id": "QHDi1jUYpYs5",
        "outputId": "b66a6088-6036-41ab-8b55-fe3f536df90d"
      },
      "outputs": [
        {
          "output_type": "stream",
          "name": "stdout",
          "text": [
            "0\n",
            "0\n",
            "0\n",
            "1\n"
          ]
        }
      ],
      "source": [
        "epsilon = 0.0000001\n",
        "\n",
        "def perceptron(x1, x2):\n",
        "    w1, w2, b = 1.0, 1.0, -1.5\n",
        "    sum = x1*w1+x2*w2+b\n",
        "    if sum > epsilon :\t\t# 부동소수점 오차를 방지하기 위하여\n",
        "        return 1\n",
        "    else :\n",
        "        return 0\n",
        "    \n",
        "print(perceptron(0, 0))\n",
        "print(perceptron(1, 0))\n",
        "print(perceptron(0, 1))\n",
        "print(perceptron(1, 1))\n"
      ]
    },
    {
      "cell_type": "markdown",
      "source": [
        "## simple perceptron using numpy"
      ],
      "metadata": {
        "id": "TkIWDo6fqAGG"
      }
    },
    {
      "cell_type": "code",
      "source": [
        "import numpy as np\n",
        "epsilon = 0.0000001\n",
        "\n",
        "def perceptron(x1, x2):\n",
        "    X = np.array([x1, x2])\n",
        "    W = np.array([1.0, 1.0])\n",
        "    B = -1.5\n",
        "    sum = np.dot(W, X)+B\n",
        "    if sum > epsilon :\n",
        "        return 1\n",
        "    else :\n",
        "        return 0\n",
        "\n",
        "print(perceptron(0, 0))\n",
        "print(perceptron(1, 0))\n",
        "print(perceptron(0, 1))\n",
        "print(perceptron(1, 1))\n"
      ],
      "metadata": {
        "colab": {
          "base_uri": "https://localhost:8080/"
        },
        "id": "u_r-UvaEp_kW",
        "outputId": "c734edd3-2f1f-4630-f4b4-c1435de1f5f2"
      },
      "execution_count": null,
      "outputs": [
        {
          "output_type": "stream",
          "name": "stdout",
          "text": [
            "0\n",
            "0\n",
            "0\n",
            "1\n"
          ]
        }
      ]
    },
    {
      "cell_type": "markdown",
      "source": [
        "## Training perceptron using numpy\n",
        "\n"
      ],
      "metadata": {
        "id": "ltfNo8UAqQ0e"
      }
    },
    {
      "cell_type": "code",
      "source": [
        "import numpy as np\n",
        "\n",
        "epsilon = 0.0000001\t\t# 부동소수점 오차 방지\n",
        "\n",
        "def step_func(t):\t\t# 퍼셉트론의 활성화 함수\n",
        "    if t > epsilon: return 1\n",
        "    else: return 0\n",
        "\n",
        "X = np.array([\t\t\t# 훈련 데이터 세트\n",
        "    [0, 0, 1],\t\t\t# 맨 끝의 1은 바이어스를 위한 입력 신호 1이다. \n",
        "    [0, 1, 1],\t\t\t# 맨 끝의 1은 바이어스를 위한 입력 신호 1이다. \n",
        "    [1, 0, 1],\t\t\t# 맨 끝의 1은 바이어스를 위한 입력 신호 1이다. \n",
        "    [1, 1, 1]\t\t\t# 맨 끝의 1은 바이어스를 위한 입력 신호 1이다. \n",
        "])\n",
        "\t\n",
        "y = np.array([0, 0, 0, 1])\t# 정답을 저장하는 넘파이 행렬\n",
        "W = np.zeros(len(X[0]))\t# 가중치를 저장하는 넘파이 행렬\n",
        "# len(X[0]),len(X)\n",
        "\n",
        "# 학습\n",
        "def perceptron_fit(X, Y, epochs=10):\t# 퍼셉트론 학습 알고리즘 구현\n",
        "    global W\n",
        "    eta = 0.2\t# 학습률\n",
        "\n",
        "    for t in range(epochs):\n",
        "        print(\"epoch=\", t, \"======================\")\n",
        "        for i in range(len(X)):\n",
        "            predict = step_func(np.dot(X[i], W))\n",
        "            error = Y[i] - predict\t\t# 오차 계산\n",
        "            W += eta * error * X[i]\t\t# 가중치 업데이트\n",
        "            print(\"현재 처리 입력=\",X[i],\"정답=\",Y[i],\"출력=\",predict,\"변경된 가중치=\", W)\n",
        "        print(\"================================\")\n",
        "\n",
        "\n",
        "# 예측 => 학습된 W를 이용\n",
        "def perceptron_predict(X, Y):\t\t\n",
        "    global W\n",
        "    for x in X:\n",
        "         print(x[0], x[1], \"->\", step_func(np.dot(x, W)))\n",
        "\n",
        "########################################\n",
        "#  학습과 예측\n",
        "########################################\n",
        "perceptron_fit(X, y, 6)\n",
        "perceptron_predict(X, y)\n"
      ],
      "metadata": {
        "colab": {
          "base_uri": "https://localhost:8080/"
        },
        "id": "Ku5AZ2WWqRXm",
        "outputId": "4de1a8ce-6b6d-487a-adeb-7a07233506e7"
      },
      "execution_count": null,
      "outputs": [
        {
          "output_type": "stream",
          "name": "stdout",
          "text": [
            "epoch= 0 ======================\n",
            "현재 처리 입력= [0 0 1] 정답= 0 출력= 0 변경된 가중치= [0. 0. 0.]\n",
            "현재 처리 입력= [0 1 1] 정답= 0 출력= 0 변경된 가중치= [0. 0. 0.]\n",
            "현재 처리 입력= [1 0 1] 정답= 0 출력= 0 변경된 가중치= [0. 0. 0.]\n",
            "현재 처리 입력= [1 1 1] 정답= 1 출력= 0 변경된 가중치= [0.2 0.2 0.2]\n",
            "================================\n",
            "epoch= 1 ======================\n",
            "현재 처리 입력= [0 0 1] 정답= 0 출력= 1 변경된 가중치= [0.2 0.2 0. ]\n",
            "현재 처리 입력= [0 1 1] 정답= 0 출력= 1 변경된 가중치= [ 0.2  0.  -0.2]\n",
            "현재 처리 입력= [1 0 1] 정답= 0 출력= 0 변경된 가중치= [ 0.2  0.  -0.2]\n",
            "현재 처리 입력= [1 1 1] 정답= 1 출력= 0 변경된 가중치= [0.4 0.2 0. ]\n",
            "================================\n",
            "epoch= 2 ======================\n",
            "현재 처리 입력= [0 0 1] 정답= 0 출력= 0 변경된 가중치= [0.4 0.2 0. ]\n",
            "현재 처리 입력= [0 1 1] 정답= 0 출력= 1 변경된 가중치= [ 0.4  0.  -0.2]\n",
            "현재 처리 입력= [1 0 1] 정답= 0 출력= 1 변경된 가중치= [ 0.2  0.  -0.4]\n",
            "현재 처리 입력= [1 1 1] 정답= 1 출력= 0 변경된 가중치= [ 0.4  0.2 -0.2]\n",
            "================================\n",
            "epoch= 3 ======================\n",
            "현재 처리 입력= [0 0 1] 정답= 0 출력= 0 변경된 가중치= [ 0.4  0.2 -0.2]\n",
            "현재 처리 입력= [0 1 1] 정답= 0 출력= 0 변경된 가중치= [ 0.4  0.2 -0.2]\n",
            "현재 처리 입력= [1 0 1] 정답= 0 출력= 1 변경된 가중치= [ 0.2  0.2 -0.4]\n",
            "현재 처리 입력= [1 1 1] 정답= 1 출력= 0 변경된 가중치= [ 0.4  0.4 -0.2]\n",
            "================================\n",
            "epoch= 4 ======================\n",
            "현재 처리 입력= [0 0 1] 정답= 0 출력= 0 변경된 가중치= [ 0.4  0.4 -0.2]\n",
            "현재 처리 입력= [0 1 1] 정답= 0 출력= 1 변경된 가중치= [ 0.4  0.2 -0.4]\n",
            "현재 처리 입력= [1 0 1] 정답= 0 출력= 0 변경된 가중치= [ 0.4  0.2 -0.4]\n",
            "현재 처리 입력= [1 1 1] 정답= 1 출력= 1 변경된 가중치= [ 0.4  0.2 -0.4]\n",
            "================================\n",
            "epoch= 5 ======================\n",
            "현재 처리 입력= [0 0 1] 정답= 0 출력= 0 변경된 가중치= [ 0.4  0.2 -0.4]\n",
            "현재 처리 입력= [0 1 1] 정답= 0 출력= 0 변경된 가중치= [ 0.4  0.2 -0.4]\n",
            "현재 처리 입력= [1 0 1] 정답= 0 출력= 0 변경된 가중치= [ 0.4  0.2 -0.4]\n",
            "현재 처리 입력= [1 1 1] 정답= 1 출력= 1 변경된 가중치= [ 0.4  0.2 -0.4]\n",
            "================================\n",
            "0 0 -> 0\n",
            "0 1 -> 0\n",
            "1 0 -> 0\n",
            "1 1 -> 1\n"
          ]
        }
      ]
    },
    {
      "cell_type": "markdown",
      "source": [
        "## Perceptron : AND"
      ],
      "metadata": {
        "id": "8fRhCe_8qsvW"
      }
    },
    {
      "cell_type": "code",
      "source": [
        "from sklearn.linear_model import Perceptron\n",
        "\n",
        "# 논리적 AND 연산 샘플과 정답이다. \n",
        "X = [[0,0],[0,1],[1,0],[1,1]]\t\t# 항상 2차원 배열이어야 한다. \n",
        "y = [0, 0, 0, 1]\n",
        "\n",
        "# 퍼셉트론을 생성한다. tol는 종료 조건이다. random_state는 난수의 시드이다.\n",
        "clf = Perceptron(tol=1e-3, random_state=0)\n",
        "\n",
        "# 학습을 수행한다. \n",
        "clf.fit(X, y)\n",
        "\n",
        "# 테스트를 수행한다. \n",
        "print(clf.predict(X))"
      ],
      "metadata": {
        "colab": {
          "base_uri": "https://localhost:8080/"
        },
        "id": "jaRZNUR6qqmO",
        "outputId": "11a5f126-bc5d-4cc0-f703-a92bc384eeed"
      },
      "execution_count": null,
      "outputs": [
        {
          "output_type": "stream",
          "name": "stdout",
          "text": [
            "[0 0 0 1]\n"
          ]
        }
      ]
    },
    {
      "cell_type": "markdown",
      "source": [
        "## Perceptron : XOR"
      ],
      "metadata": {
        "id": "JB8hDOdxrCMW"
      }
    },
    {
      "cell_type": "code",
      "source": [
        "from sklearn.linear_model import Perceptron\n",
        "\n",
        "# 논리적 AND 연산 샘플과 정답이다. \n",
        "X = [[0,0],[0,1],[1,0],[1,1]]\t\t# 항상 2차원 배열이어야 한다. \n",
        "y = [0, 1, 1, 0]\n",
        "\n",
        "# 퍼셉트론을 생성한다. tol는 종료 조건이다. random_state는 난수의 시드이다.\n",
        "clf = Perceptron(tol=1e-3, random_state=0)\n",
        "\n",
        "# 학습을 수행한다. \n",
        "clf.fit(X, y)\n",
        "\n",
        "# 테스트를 수행한다. \n",
        "print(clf.predict(X))"
      ],
      "metadata": {
        "colab": {
          "base_uri": "https://localhost:8080/"
        },
        "id": "XiT0aJhqrBqW",
        "outputId": "0b546455-2b73-4b98-8957-e9875be2c770"
      },
      "execution_count": null,
      "outputs": [
        {
          "output_type": "stream",
          "name": "stdout",
          "text": [
            "[0 0 0 0]\n"
          ]
        }
      ]
    },
    {
      "cell_type": "markdown",
      "source": [
        "## Perceptron: Random dataset"
      ],
      "metadata": {
        "id": "kcZjda_LrYmm"
      }
    },
    {
      "cell_type": "code",
      "source": [
        "from matplotlib import pyplot as plt\n",
        "from sklearn.datasets import make_blobs\n",
        "from sklearn.linear_model import Perceptron\n",
        "import numpy as np\n",
        "\n",
        "# 퍼셉트론을 생성한다. tol는 종료 조건이다. random_state는 난수의 시드이다.\n",
        "clf = Perceptron(tol=1e-3, random_state=0)\n",
        "\n",
        "# 뭉쳐진 데이터를 만든다. 샘플의 개수는 총 100개, 클러스터의 개수는 2개이다. \n",
        "X, y = make_blobs(n_samples=100, centers=2)\n",
        "print(X.shape,y.shape)\n",
        "print(X[:5],y[:5])\n",
        "plt.plot(X)\n",
        "plt.show()\n",
        "\n",
        "plt.scatter(X[:,0],X[:,1])\n",
        "plt.show()\n",
        "\n",
        "plt.scatter(X[:,0],X[:,1],c=y)\n",
        "plt.show()\n",
        "\n",
        "# Learning\n",
        "clf.fit(X, y)\n"
      ],
      "metadata": {
        "colab": {
          "base_uri": "https://localhost:8080/",
          "height": 892
        },
        "id": "6xyAjU4grHVK",
        "outputId": "201936fc-0b41-4493-becb-76785e20ee0a"
      },
      "execution_count": null,
      "outputs": [
        {
          "output_type": "stream",
          "name": "stdout",
          "text": [
            "(100, 2) (100,)\n",
            "[[-3.8980906   4.06895017]\n",
            " [-5.40093277  5.44700175]\n",
            " [-2.17678727  9.8039565 ]\n",
            " [-2.12714752  9.68203177]\n",
            " [-1.44642977  9.16312976]] [0 0 1 1 1]\n"
          ]
        },
        {
          "output_type": "display_data",
          "data": {
            "text/plain": [
              "<Figure size 432x288 with 1 Axes>"
            ],
            "image/png": "[encoded data removed]"
          },
          "metadata": {
            "needs_background": "light"
          }
        },
        {
          "output_type": "display_data",
          "data": {
            "text/plain": [
              "<Figure size 432x288 with 1 Axes>"
            ],
            "image/png": "[encoded data removed]"
          },
          "metadata": {
            "needs_background": "light"
          }
        },
        {
          "output_type": "display_data",
          "data": {
            "text/plain": [
              "<Figure size 432x288 with 1 Axes>"
            ],
            "image/png": "[encoded data removed]"
          },
          "metadata": {
            "needs_background": "light"
          }
        },
        {
          "output_type": "execute_result",
          "data": {
            "text/plain": [
              "Perceptron()"
            ]
          },
          "metadata": {},
          "execution_count": 6
        }
      ]
    },
    {
      "cell_type": "code",
      "source": [
        "\n",
        "#######################################\n",
        "from sklearn.metrics import accuracy_score\n",
        "print(accuracy_score(clf.predict(X), y))\n",
        "\n",
        "# 데이터를 그래프 위에 표시한다. \n",
        "plt.scatter(X[:, 0], X[:, 1], c=y, s=50)\n",
        "plt.xlabel(\"x1\")\n",
        "plt.ylabel(\"x2\")\n",
        "# plt.show()\n",
        "\n",
        "# 데이터에서 최소 좌표와 최대 좌표를 계산한다. \n",
        "x_min, x_max = X[:, 0].min() - 1, X[:, 0].max() + 1\n",
        "y_min, y_max = X[:, 1].min() - 1, X[:, 1].max() + 1\n",
        "\n",
        "# 0.1 간격으로 메쉬 그리드 좌표를 만든다. \n",
        "xx, yy = np.meshgrid(np.arange(x_min, x_max, 0.1), np.arange(y_min, y_max, 0.1))\n",
        "xx.shape,yy.shape\n",
        "xx.ravel().shape  # , 123*91\n",
        "\n",
        "# 메쉬 그리드 데이터에 대하여 예측을 한다. \n",
        "Z = clf.predict(np.c_[xx.ravel(), yy.ravel()]).reshape(xx.shape)\n",
        "\n",
        "# 컨투어를 그린다. \n",
        "plt.contourf(xx, yy, Z, alpha=0.4)\n",
        "plt.show()\n",
        "\n"
      ],
      "metadata": {
        "colab": {
          "base_uri": "https://localhost:8080/",
          "height": 297
        },
        "id": "iM2BNMcDsETm",
        "outputId": "af1a9328-9dce-4dba-e9fc-ee412aa85dcf"
      },
      "execution_count": null,
      "outputs": [
        {
          "output_type": "stream",
          "name": "stdout",
          "text": [
            "1.0\n"
          ]
        },
        {
          "output_type": "display_data",
          "data": {
            "text/plain": [
              "<Figure size 432x288 with 1 Axes>"
            ],
            "image/png": "[encoded data removed]"
          },
          "metadata": {
            "needs_background": "light"
          }
        }
      ]
    },
    {
      "cell_type": "markdown",
      "source": [
        "## Perceptron: 키,몸무게로 남/여 구별 "
      ],
      "metadata": {
        "id": "OAZDx_6Gshi1"
      }
    },
    {
      "cell_type": "code",
      "source": [
        "#Model\n",
        "from sklearn.linear_model import Perceptron\n",
        "\n",
        "X = [[160, 55],[165, 48],[163, 43],[170, 80], [175,76], [180,70]] # 항상 2차원 배열이어야 한다.\n",
        "y = [0, 0, 0, 1, 1, 1]\n",
        "\n",
        "# 퍼셉트론을 생성한다. tol는 종료 조건이다. random_state는 난수의 시드이다.\n",
        "clf = Perceptron(tol=1e-3, random_state=0)\n",
        "\n",
        "# 학습을 수행한다.\n",
        "clf.fit(X, y)\n",
        "\n",
        "# 테스트를 수행한다.\n",
        "print(clf.predict(X))\n",
        "print(clf.coef_) # 가중치\n",
        "print(clf.intercept_) # 바이어스 값\n"
      ],
      "metadata": {
        "colab": {
          "base_uri": "https://localhost:8080/"
        },
        "id": "aIu7ABEWsvs1",
        "outputId": "1f828ed1-d4b2-44f5-b154-f437275ff7e5"
      },
      "execution_count": null,
      "outputs": [
        {
          "output_type": "stream",
          "name": "stdout",
          "text": [
            "[0 0 0 1 1 1]\n",
            "[[-59. 160.]]\n",
            "[-1.]\n"
          ]
        }
      ]
    },
    {
      "cell_type": "code",
      "source": [
        "\n",
        "# Plot data\n",
        "####################################\n",
        "X1=[x[0] for x in X]\n",
        "X2=[x[1] for x in X]\n",
        "import matplotlib.pyplot as plt\n",
        "\n",
        "plt.scatter(X1,X2,c=y)\n",
        "plt.show()\n"
      ],
      "metadata": {
        "colab": {
          "base_uri": "https://localhost:8080/",
          "height": 265
        },
        "id": "d_fFdgUAtBmU",
        "outputId": "801386ac-01fa-4e5c-f2d1-d8faf61e7bf6"
      },
      "execution_count": null,
      "outputs": [
        {
          "output_type": "display_data",
          "data": {
            "text/plain": [
              "<Figure size 432x288 with 1 Axes>"
            ],
            "image/png": "[encoded data removed]"
          },
          "metadata": {
            "needs_background": "light"
          }
        }
      ]
    },
    {
      "cell_type": "code",
      "source": [
        "\n",
        "# Check result\n",
        "import numpy as np\n",
        "Y1=np.array(X)@(np.array(clf.coef_).T)+clf.intercept_\n",
        "\n",
        "epsilon = 0.0000001\n",
        "def step_func(t): # 퍼셉트론의 활성화 함수\n",
        "    if t > epsilon: return 1\n",
        "    else: return 0\n",
        "    \n",
        "for i in range(len(Y1)):\n",
        "    print(step_func(Y1[i]))"
      ],
      "metadata": {
        "colab": {
          "base_uri": "https://localhost:8080/"
        },
        "id": "_o5key5LtLmP",
        "outputId": "001502f7-ba54-4880-90fd-6a52803bb515"
      },
      "execution_count": null,
      "outputs": [
        {
          "output_type": "stream",
          "name": "stdout",
          "text": [
            "0\n",
            "0\n",
            "0\n",
            "1\n",
            "1\n",
            "1\n"
          ]
        }
      ]
    }
  ]
}